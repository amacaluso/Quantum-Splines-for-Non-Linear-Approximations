{
 "cells": [
  {
   "cell_type": "code",
   "execution_count": 1,
   "metadata": {},
   "outputs": [],
   "source": [
    "import numpy as np\n",
    "import matplotlib.pyplot as plt\n",
    "import random\n",
    "import pandas as pd\n",
    "from sklearn.linear_model import LinearRegression\n",
    "from qiskit.aqua import run_algorithm\n",
    "from qiskit.aqua.input import LinearSystemInput\n",
    "from qiskit.quantum_info import state_fidelity\n",
    "from qiskit.aqua.algorithms.classical import ExactLSsolver\n",
    "from qiskit import BasicAer\n",
    "from qiskit.aqua import QuantumInstance\n",
    "from qiskit.aqua.algorithms.single_sample import HHL\n",
    "from qiskit.aqua.utils import random_hermitian\n",
    "from pylab import * \n",
    "import seaborn as sns\n",
    "\n",
    "# +++++ Random Seed +++++ #\n",
    "# set the random seed to get \n",
    "# the same pseudo-random matrix for every run\n",
    "np.random.seed(1)"
   ]
  },
  {
   "cell_type": "code",
   "execution_count": 2,
   "metadata": {},
   "outputs": [],
   "source": [
    "def fidelity(hhl, ref):\n",
    "    solution_hhl_normed = hhl / np.linalg.norm(hhl)\n",
    "    solution_ref_normed = ref / np.linalg.norm(ref)\n",
    "    fidelity = state_fidelity(solution_hhl_normed, solution_ref_normed)\n",
    "    print(\"fidelity %f\" % fidelity)\n",
    "    \n",
    "# Fidelity is useful to check whether two states are same or not. \n",
    "# For quantum (pure) states, the fidelity is the squared overlap between them"
   ]
  },
  {
   "cell_type": "code",
   "execution_count": 3,
   "metadata": {},
   "outputs": [],
   "source": [
    "params = {\n",
    "     'problem': {'name': 'linear_system'},\n",
    "     'algorithm': {'name': 'HHL'},\n",
    "     'eigs': {'expansion_mode': 'suzuki',\n",
    "              'expansion_order': 2,\n",
    "              'name': 'EigsQPE',\n",
    "              'num_ancillae': 3,\n",
    "              'num_time_slices': 50 },\n",
    "     'reciprocal': { 'name': 'Lookup'},\n",
    "     'backend': { 'provider': 'qiskit.BasicAer',\n",
    "                  'name': 'statevector_simulator'}\n",
    "}"
   ]
  },
  {
   "cell_type": "code",
   "execution_count": 4,
   "metadata": {},
   "outputs": [],
   "source": [
    "# bi = np.random.binomial(n=100, p=0.5, size=10000)\n",
    "# plt.hist(bi, bins=20, normed=True);"
   ]
  },
  {
   "cell_type": "code",
   "execution_count": 5,
   "metadata": {},
   "outputs": [
    {
     "name": "stdout",
     "output_type": "stream",
     "text": [
      "\n",
      " Matrix correlation \n",
      " [[ 1.         -0.0248661  -0.04298775  0.24141804]\n",
      " [-0.0248661   1.          0.07192416 -0.09257895]\n",
      " [-0.04298775  0.07192416  1.         -0.07612303]\n",
      " [ 0.24141804 -0.09257895 -0.07612303  1.        ]] \n",
      "\n",
      "condition number =  17.99\n",
      "R squared = 0.98 \n",
      "\n",
      "\n",
      "Coeffs (skl) =  [ 9.90754670e-01  2.02428480e+00  2.41289119e-02 -1.05898167e-03]\n",
      "Coeffs (by hand) =  [ 0.98034802  2.01287866  0.00697224 -0.01568521]\n"
     ]
    }
   ],
   "source": [
    "''' Ridge Regression with 4 variables'''\n",
    "\n",
    "# Parameters for distributions\n",
    "\n",
    "N = 100\n",
    "s1 = 0; s2 = 100\n",
    "\n",
    "m_e = 0; s_e = 10\n",
    "\n",
    "\n",
    "x1 = np.random.uniform(s1, s2, N)\n",
    "x2 = np.random.uniform(s1, s2, N)\n",
    "x3 = np.random.uniform(s1, s2, N)\n",
    "x4 = np.random.uniform(s1, s2, N)\n",
    "\n",
    "\n",
    "beta_1 = 1; beta_2 = 2; \n",
    "beta_3 = 2; beta_4 = 1; \n",
    "\n",
    "y = beta_1*x1 + beta_2*x2 + np.random.normal(m_e , s_e, N) # + beta_3*x3 + beta_4*x4 \n",
    "X = pd.concat( [pd.Series(x1), pd.Series(x2), pd.Series(x3), pd.Series(x4)], axis = 1 )\n",
    "\n",
    "XX = X.values.transpose().dot(X.values)\n",
    "\n",
    "\n",
    "print( '\\n Matrix correlation \\n', np.corrcoef( [x1, x2, x3, x4]), '\\n' )\n",
    "\n",
    "# Condition number\n",
    "k = max(np.linalg.svd(XX)[1])/min(np.linalg.svd(XX)[1])\n",
    "print( 'condition number = ', np.round( k, 2) )\n",
    "\n",
    "'''Fitting Linear Regression using skl'''\n",
    "\n",
    "reg = LinearRegression().fit(X, y)\n",
    "\n",
    "print( 'R squared =', np.round( reg.score(X, y), 2 ), '\\n\\n' )\n",
    "print( 'Coeffs (skl) = ',  reg.coef_ )\n",
    "\n",
    "\n",
    "'''Fitting Linear Regression by hand'''\n",
    "\n",
    "XX_inv = np.linalg.inv( X.values.transpose().dot(X.values) )\n",
    "XY = X.values.transpose().dot(y)\n",
    "print( 'Coeffs (by hand) = ', XX_inv.dot(XY) )\n"
   ]
  },
  {
   "cell_type": "code",
   "execution_count": 6,
   "metadata": {},
   "outputs": [],
   "source": [
    "# Scatter plot matrix\n",
    "# sns.set(style=\"ticks\")\n",
    "# df = pd.concat( [pd.Series(x1), pd.Series(x2), pd.Series(x3), pd.Series(x4), pd.Series(y)], axis = 1 )\n",
    "# sns.pairplot(df, diag_kind=\"kde\") #, hue=\"species\")"
   ]
  },
  {
   "cell_type": "code",
   "execution_count": 7,
   "metadata": {},
   "outputs": [
    {
     "name": "stdout",
     "output_type": "stream",
     "text": [
      "condition number =  17.99\n",
      "solution  [ 1.0164 -0.e+00j  2.01956+0.e+00j -0.03228+1.e-05j -0.01496-2.e-05j]\n",
      "classical solution  [ 0.98035  2.01288  0.00697 -0.01569]\n",
      "probability 0.000707\n",
      "fidelity 0.999527\n"
     ]
    }
   ],
   "source": [
    "'''Quantum algorithm for linear regression (design matrix 2x2)'''\n",
    "\n",
    "params5 = params\n",
    "params5['algorithm'] = {\n",
    "    'truncate_powerdim': False,\n",
    "    'truncate_hermitian': False\n",
    "}\n",
    "params5['reciprocal'] = {\n",
    "    'name': 'Lookup',\n",
    "    'negative_evals': True\n",
    "}\n",
    "params5['eigs'] = {\n",
    "    'expansion_mode': 'suzuki',\n",
    "    'expansion_order': 2,\n",
    "    'name': 'EigsQPE',\n",
    "    'negative_evals': True,\n",
    "    'num_ancillae': 6,\n",
    "    'num_time_slices': 70\n",
    "}\n",
    "params5['initial_state'] = {\n",
    "    'name': 'CUSTOM'\n",
    "}\n",
    "params5['iqft'] = {\n",
    "    'name': 'STANDARD'\n",
    "}\n",
    "params5['qft'] = {\n",
    "    'name': 'STANDARD'\n",
    "}\n",
    "\n",
    "\n",
    "\n",
    "matrix = XX.tolist()\n",
    "vector = XY.tolist()\n",
    "\n",
    "# Condition number\n",
    "k = max(np.linalg.svd(XX)[1])/min(np.linalg.svd(XX)[1])\n",
    "print( 'condition number = ', np.round( k, 2) )\n",
    "\n",
    "\n",
    "algo_input = LinearSystemInput(matrix=matrix, vector=vector)\n",
    "hhl = HHL.init_params(params5, algo_input)\n",
    "backend = BasicAer.get_backend('statevector_simulator')\n",
    "quantum_instance = QuantumInstance(backend=backend)\n",
    "result = hhl.run(quantum_instance)\n",
    "print(\"solution \", np.round(result['solution'], 5))\n",
    "\n",
    "result_ref = ExactLSsolver(matrix, vector).run()\n",
    "print(\"classical solution \", np.round(result_ref['solution'], 5))\n",
    "\n",
    "print(\"probability %f\" % result['probability_result'])\n",
    "fidelity(result['solution'], result_ref['solution'])"
   ]
  },
  {
   "cell_type": "code",
   "execution_count": 14,
   "metadata": {},
   "outputs": [
    {
     "name": "stdout",
     "output_type": "stream",
     "text": [
      "[[ 9.84232574e+00 -2.15129409e+00 -4.35737670e+00 -4.92984807e+00]\n",
      " [-2.15129409e+00  1.01708146e+03  2.00931443e+03  2.00827390e+03]\n",
      " [-4.35737670e+00  2.00931443e+03  4.01712231e+03  4.00438410e+03]\n",
      " [-4.92984807e+00  2.00827390e+03  4.00438410e+03  4.01230207e+03]]\n",
      "condition number =  967.28\n"
     ]
    }
   ],
   "source": [
    "# set the random seed to get the same pseudo-random matrix for every run\n",
    "# np.random.seed(1)\n",
    "\n",
    "# matrix = XX.tolist()\n",
    "# vector = XY.tolist()\n",
    "\n",
    "# # Condition number\n",
    "# k = max(np.linalg.svd(XX)[1])/min(np.linalg.svd(XX)[1])\n",
    "# print( 'condition number = ', np.round( k, 2) )"
   ]
  },
  {
   "cell_type": "code",
   "execution_count": 8,
   "metadata": {},
   "outputs": [],
   "source": [
    "''' Ill-conditioned ridge regression'''\n",
    "\n",
    "alpha_1 = 1\n",
    "alpha_2 = 3\n",
    "x3 = alpha_1*x2 + alpha_2*x1 + np.random.normal(m_e , s_e, N)\n",
    "\n",
    "\n",
    "gamma_1 = 1\n",
    "gamma_2 = 2\n",
    "x4 = gamma_1*x2 + gamma_2*x1 + np.random.normal(m_e , s_e, N)\n"
   ]
  },
  {
   "cell_type": "code",
   "execution_count": 9,
   "metadata": {},
   "outputs": [
    {
     "name": "stdout",
     "output_type": "stream",
     "text": [
      "\n",
      " Matrix correlation \n",
      " [[ 1.         -0.0248661   0.94125811  0.864437  ]\n",
      " [-0.0248661   1.          0.29699246  0.45806107]\n",
      " [ 0.94125811  0.29699246  1.          0.96533324]\n",
      " [ 0.864437    0.45806107  0.96533324  1.        ]] \n",
      "\n",
      "condition number =  13848.98\n",
      "R squared = 1.0 \n",
      "\n",
      "\n",
      "Coeffs (skl) =  [0.98760773 2.01194804 2.02854885 0.97945853]\n",
      "Coeffs (by hand) =  [0.92561992 1.97646363 2.03817769 0.98221144]\n"
     ]
    }
   ],
   "source": [
    "# matrix = XX.tolist() ; print( 'Matrix XX \\n', np.round( matrix ) )# [[2, 0], [0, 1]]\n",
    "# vector = XY.astype(int).tolist() ; print( '\\n Vector XY \\n', np.round( vector ) ) # [1, 4]\n",
    "\n",
    "# np.linalg.inv( matrix ).dot( vector )\n",
    "# print('The Pearson coefficient between x1 and x2 is \\n: ', np.round( np.corrcoef(x1, x2)[0,1], 3 ) )\n",
    "\n",
    "X = pd.concat( [pd.Series(x1), pd.Series(x2), pd.Series(x3), pd.Series(x4)], axis = 1 )\n",
    "y = beta_1*x1 + beta_2*x2 + beta_3*x3 + beta_4*x4 + np.random.normal(m_e , s_e, N)\n",
    "\n",
    "\n",
    "XX = X.values.transpose().dot(X.values)\n",
    "\n",
    "\n",
    "print( '\\n Matrix correlation \\n', np.corrcoef( [x1, x2, x3, x4]), '\\n' )\n",
    "\n",
    "# Condition number\n",
    "k = max(np.linalg.svd(XX)[1])/min(np.linalg.svd(XX)[1])\n",
    "print( 'condition number = ', np.round( k, 2) )\n",
    "\n",
    "# matrice = XX # + np.diag(np.repeat(100, 4, axis=0))\n",
    "# print( np.round(XX) )\n",
    "\n",
    "# k = max(np.linalg.svd(matrice)[1])/min(np.linalg.svd(matrice)[1])\n",
    "# print( 'condition number = ', np.round( k, 2) )\n",
    "\n",
    "'''Fitting Linear Regression using skl'''\n",
    "\n",
    "reg = LinearRegression().fit(X, y)\n",
    "\n",
    "print( 'R squared =', np.round( reg.score(X, y), 2 ), '\\n\\n' )\n",
    "print( 'Coeffs (skl) = ',  reg.coef_ )\n",
    "\n",
    "\n",
    "'''Fitting Linear Regression by hand'''\n",
    "\n",
    "XX_inv = np.linalg.inv( X.values.transpose().dot(X.values) )\n",
    "XY = X.values.transpose().dot(y)\n",
    "print( 'Coeffs (by hand) = ', XX_inv.dot(XY) )\n"
   ]
  },
  {
   "cell_type": "code",
   "execution_count": 10,
   "metadata": {},
   "outputs": [
    {
     "name": "stdout",
     "output_type": "stream",
     "text": [
      "condition number =  13848.98\n",
      "solution  [0.3021 -0.00097j 1.0482 -0.00025j 1.90355+0.00061j 1.66747-0.00042j]\n",
      "classical solution  [0.92562 1.97646 2.03818 0.98221]\n",
      "probability 0.000477\n",
      "fidelity 0.825118\n"
     ]
    }
   ],
   "source": [
    "\n",
    "params5 = params\n",
    "params5['algorithm'] = {\n",
    "    'truncate_powerdim': False,\n",
    "    'truncate_hermitian': False\n",
    "}\n",
    "params5['reciprocal'] = {\n",
    "    'name': 'Lookup',\n",
    "    'negative_evals': True\n",
    "}\n",
    "params5['eigs'] = {\n",
    "    'expansion_mode': 'suzuki',\n",
    "    'expansion_order': 2,\n",
    "    'name': 'EigsQPE',\n",
    "    'negative_evals': True,\n",
    "    'num_ancillae': 6,\n",
    "    'num_time_slices': 70\n",
    "}\n",
    "params5['initial_state'] = {\n",
    "    'name': 'CUSTOM'\n",
    "}\n",
    "params5['iqft'] = {\n",
    "    'name': 'STANDARD'\n",
    "}\n",
    "params5['qft'] = {\n",
    "    'name': 'STANDARD'\n",
    "}\n",
    "\n",
    "\n",
    "\n",
    "matrix = XX.tolist()\n",
    "vector = XY.tolist()\n",
    "\n",
    "# Condition number\n",
    "k = max(np.linalg.svd(XX)[1])/min(np.linalg.svd(XX)[1])\n",
    "print( 'condition number = ', np.round( k, 2) )\n",
    "\n",
    "\n",
    "algo_input = LinearSystemInput(matrix=matrix, vector=vector)\n",
    "hhl = HHL.init_params(params5, algo_input)\n",
    "backend = BasicAer.get_backend('statevector_simulator')\n",
    "quantum_instance = QuantumInstance(backend=backend)\n",
    "result = hhl.run(quantum_instance)\n",
    "print(\"solution \", np.round(result['solution'], 5))\n",
    "\n",
    "result_ref = ExactLSsolver(matrix, vector).run()\n",
    "print(\"classical solution \", np.round(result_ref['solution'], 5))\n",
    "\n",
    "print(\"probability %f\" % result['probability_result'])\n",
    "fidelity(result['solution'], result_ref['solution'])"
   ]
  },
  {
   "cell_type": "code",
   "execution_count": 11,
   "metadata": {},
   "outputs": [
    {
     "name": "stdout",
     "output_type": "stream",
     "text": [
      "[[10322750.   233258.  1206202.   873707.]\n",
      " [  233258. 10335074.  1029758.   799211.]\n",
      " [ 1206202.  1029758. 14668187.  3423196.]\n",
      " [  873707.   799211.  3423196. 12544269.]]\n",
      "(new) condition number =  1.77\n"
     ]
    }
   ],
   "source": [
    "'''Introduction of the penalty for ill-conditioned case'''\n",
    "\n",
    "lambda_penalty = 10**7\n",
    "matrix = (XX + np.diag(np.repeat(lambda_penalty, 4, axis=0))).tolist()\n",
    "print( np.round(matrix) )\n",
    "\n",
    "k = max(np.linalg.svd(matrix)[1])/min(np.linalg.svd(matrix)[1])\n",
    "print( '(new) condition number = ', np.round( k, 2) )\n"
   ]
  },
  {
   "cell_type": "code",
   "execution_count": 12,
   "metadata": {},
   "outputs": [
    {
     "name": "stdout",
     "output_type": "stream",
     "text": [
      "solution  [0.22783+0.j 0.21717-0.j 0.90244-0.j 0.66984-0.j]\n",
      "classical solution  [0.22784 0.21714 0.90245 0.66983]\n",
      "probability 0.000330\n",
      "fidelity 1.000000\n"
     ]
    }
   ],
   "source": [
    "algo_input = LinearSystemInput(matrix=matrix, vector=vector)\n",
    "hhl = HHL.init_params(params5, algo_input)\n",
    "backend = BasicAer.get_backend('statevector_simulator')\n",
    "quantum_instance = QuantumInstance(backend=backend)\n",
    "result = hhl.run(quantum_instance)\n",
    "print(\"solution \", np.round(result['solution'], 5))\n",
    "\n",
    "result_ref = ExactLSsolver(matrix, vector).run()\n",
    "print(\"classical solution \", np.round(result_ref['solution'], 5))\n",
    "\n",
    "print(\"probability %f\" % result['probability_result'])\n",
    "fidelity(result['solution'], result_ref['solution'])"
   ]
  },
  {
   "cell_type": "code",
   "execution_count": 65,
   "metadata": {},
   "outputs": [
    {
     "name": "stdout",
     "output_type": "stream",
     "text": [
      "circuit_width 12\n",
      "circuit_depth 542321\n"
     ]
    }
   ],
   "source": [
    "print(\"circuit_width\", result['circuit_info']['width'])\n",
    "print(\"circuit_depth\", result['circuit_info']['depth'])"
   ]
  },
  {
   "cell_type": "code",
   "execution_count": 48,
   "metadata": {},
   "outputs": [
    {
     "ename": "ValueError",
     "evalue": "Argument Z must be 2-dimensional.",
     "output_type": "error",
     "traceback": [
      "\u001b[1;31m---------------------------------------------------------------------------\u001b[0m",
      "\u001b[1;31mValueError\u001b[0m                                Traceback (most recent call last)",
      "\u001b[1;32m<ipython-input-48-a3d346c52a66>\u001b[0m in \u001b[0;36m<module>\u001b[1;34m\u001b[0m\n\u001b[0;32m     10\u001b[0m \u001b[1;33m\u001b[0m\u001b[0m\n\u001b[0;32m     11\u001b[0m \u001b[0mplt3d\u001b[0m \u001b[1;33m=\u001b[0m \u001b[0mplt\u001b[0m\u001b[1;33m.\u001b[0m\u001b[0mfigure\u001b[0m\u001b[1;33m(\u001b[0m\u001b[1;33m)\u001b[0m\u001b[1;33m.\u001b[0m\u001b[0mgca\u001b[0m\u001b[1;33m(\u001b[0m\u001b[0mprojection\u001b[0m\u001b[1;33m=\u001b[0m\u001b[1;34m'3d'\u001b[0m\u001b[1;33m)\u001b[0m\u001b[1;33m\u001b[0m\u001b[1;33m\u001b[0m\u001b[0m\n\u001b[1;32m---> 12\u001b[1;33m \u001b[0mplt3d\u001b[0m\u001b[1;33m.\u001b[0m\u001b[0mplot_surface\u001b[0m\u001b[1;33m(\u001b[0m\u001b[0mzline\u001b[0m\u001b[1;33m,\u001b[0m \u001b[0myline\u001b[0m\u001b[1;33m,\u001b[0m \u001b[0mxline\u001b[0m\u001b[1;33m)\u001b[0m\u001b[1;33m\u001b[0m\u001b[1;33m\u001b[0m\u001b[0m\n\u001b[0m",
      "\u001b[1;32m~\\Anaconda3\\lib\\site-packages\\mpl_toolkits\\mplot3d\\axes3d.py\u001b[0m in \u001b[0;36mplot_surface\u001b[1;34m(self, X, Y, Z, norm, vmin, vmax, lightsource, *args, **kwargs)\u001b[0m\n\u001b[0;32m   1609\u001b[0m \u001b[1;33m\u001b[0m\u001b[0m\n\u001b[0;32m   1610\u001b[0m         \u001b[1;32mif\u001b[0m \u001b[0mZ\u001b[0m\u001b[1;33m.\u001b[0m\u001b[0mndim\u001b[0m \u001b[1;33m!=\u001b[0m \u001b[1;36m2\u001b[0m\u001b[1;33m:\u001b[0m\u001b[1;33m\u001b[0m\u001b[1;33m\u001b[0m\u001b[0m\n\u001b[1;32m-> 1611\u001b[1;33m             \u001b[1;32mraise\u001b[0m \u001b[0mValueError\u001b[0m\u001b[1;33m(\u001b[0m\u001b[1;34m\"Argument Z must be 2-dimensional.\"\u001b[0m\u001b[1;33m)\u001b[0m\u001b[1;33m\u001b[0m\u001b[1;33m\u001b[0m\u001b[0m\n\u001b[0m\u001b[0;32m   1612\u001b[0m         \u001b[1;31m# TODO: Support masked arrays\u001b[0m\u001b[1;33m\u001b[0m\u001b[1;33m\u001b[0m\u001b[1;33m\u001b[0m\u001b[0m\n\u001b[0;32m   1613\u001b[0m         \u001b[0mX\u001b[0m\u001b[1;33m,\u001b[0m \u001b[0mY\u001b[0m\u001b[1;33m,\u001b[0m \u001b[0mZ\u001b[0m \u001b[1;33m=\u001b[0m \u001b[0mnp\u001b[0m\u001b[1;33m.\u001b[0m\u001b[0mbroadcast_arrays\u001b[0m\u001b[1;33m(\u001b[0m\u001b[0mX\u001b[0m\u001b[1;33m,\u001b[0m \u001b[0mY\u001b[0m\u001b[1;33m,\u001b[0m \u001b[0mZ\u001b[0m\u001b[1;33m)\u001b[0m\u001b[1;33m\u001b[0m\u001b[1;33m\u001b[0m\u001b[0m\n",
      "\u001b[1;31mValueError\u001b[0m: Argument Z must be 2-dimensional."
     ]
    },
    {
     "data": {
      "image/png": "[encoded data removed]",
      "text/plain": [
       "<Figure size 432x288 with 1 Axes>"
      ]
     },
     "metadata": {
      "needs_background": "light"
     },
     "output_type": "display_data"
    }
   ],
   "source": [
    "# 3D plot \n",
    "# from mpl_toolkits import mplot3d\n",
    "# %matplotlib inline\n",
    "# import numpy as np\n",
    "# import matplotlib.pyplot as plt\n",
    "# from mpl_toolkits.mplot3d import Axes3D\n",
    "\n",
    "\n",
    "# fig = plt.figure()\n",
    "# ax = plt.axes(projection='3d')\n",
    "# ax = plt.axes(projection='3d')\n",
    "\n",
    "# # Data for a three-dimensional line\n",
    "# # zline = np.linspace(0, 15, 1000)\n",
    "# # xline = np.sin(zline)\n",
    "# # yline = np.cos(zline)\n",
    "# #ax.plot3D(xline, yline, zline, 'gray')\n",
    "\n",
    "# # Data for a three-dimensional line\n",
    "# zline = beta_0 + beta_1*x1 + beta_2*x2\n",
    "# xline = x1\n",
    "# yline = x2\n",
    "# # ax.plot3D(xline, yline, zline, 'gray')\n",
    "\n",
    "\n",
    "\n",
    "# # Data for three-dimensional scattered points\n",
    "# zdata = beta_0 + beta_1*x1 + beta_2*x2\n",
    "# xdata = x1\n",
    "# ydata = x2\n",
    "# ax.scatter3D(xdata, ydata, zdata, c=zdata, cmap='Greens')\n",
    "\n",
    "# plt3d = plt.figure().gca(projection='3d')\n",
    "# plt3d.plot_surface(zline, yline, xline)"
   ]
  },
  {
   "cell_type": "code",
   "execution_count": null,
   "metadata": {},
   "outputs": [],
   "source": []
  }
 ],
 "metadata": {
  "kernelspec": {
   "display_name": "Python 3",
   "language": "python",
   "name": "python3"
  },
  "language_info": {
   "codemirror_mode": {
    "name": "ipython",
    "version": 3
   },
   "file_extension": ".py",
   "mimetype": "text/x-python",
   "name": "python",
   "nbconvert_exporter": "python",
   "pygments_lexer": "ipython3",
   "version": "3.7.3"
  }
 },
 "nbformat": 4,
 "nbformat_minor": 2
}
